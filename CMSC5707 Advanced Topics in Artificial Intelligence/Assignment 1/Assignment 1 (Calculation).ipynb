{
 "cells": [
  {
   "cell_type": "markdown",
   "id": "91225b2d-5fb4-4ed0-8d92-331b0872a5ee",
   "metadata": {},
   "source": [
    "#### Question 5\n",
    "---"
   ]
  },
  {
   "cell_type": "code",
   "execution_count": null,
   "id": "13ded4e8-e296-4dd3-be01-b9febe6cde7a",
   "metadata": {},
   "outputs": [],
   "source": [
    "import librosa\n",
    "import numpy as np\n",
    "\n",
    "\n",
    "S = np.array([1,3,6,1,6,7,1,8,3,6,6,7,9,5,8])\n",
    "p = 4\n",
    "\n",
    "R = librosa.autocorrelate(S)\n",
    "\n",
    "sum(R[:p+1])\n",
    "\n",
    "# N = len(S)\n",
    "# R = []\n",
    "# for i in range(p+1):\n",
    "#     val = sum(S[i:] * S[:N-i])\n",
    "#     R.append(val)\n",
    "# sum(R)"
   ]
  },
  {
   "cell_type": "markdown",
   "id": "142f254b-c71a-4cbb-b036-7ff58715fa0f",
   "metadata": {},
   "source": [
    "#### Question 6\n",
    "---"
   ]
  },
  {
   "cell_type": "code",
   "execution_count": null,
   "id": "c819fa00-3113-4c37-8d90-0eda7bd87155",
   "metadata": {},
   "outputs": [],
   "source": [
    "import librosa\n",
    "import numpy as np\n",
    "\n",
    "\n",
    "S = np.array([1,3,6,1,6,7,1,8,3,6,6,7,9,5,8])\n",
    "p = 4\n",
    "\n",
    "R = librosa.autocorrelate(S)\n",
    "X = []\n",
    "\n",
    "for i in range(p):\n",
    "    rw = []\n",
    "    for j in range(p):\n",
    "        if i == j:\n",
    "            rw.append(R[0])\n",
    "        else:\n",
    "            rw.append(R[abs(j-i)])\n",
    "    X.append(rw)\n",
    "\n",
    "np.linalg.lstsq(X, np.array(R[1:p+1]).T, rcond=None)[0][3]"
   ]
  },
  {
   "cell_type": "markdown",
   "id": "fd78500e-f4ef-47d6-8d08-4c20227af705",
   "metadata": {},
   "source": [
    "#### Question 7\n",
    "---"
   ]
  },
  {
   "cell_type": "code",
   "execution_count": null,
   "id": "e97a98b5-e566-4af3-8202-0baf28f3194c",
   "metadata": {},
   "outputs": [],
   "source": [
    "import numpy as np\n",
    "import pandas as pd\n",
    "from sklearn.cluster import KMeans\n",
    "\n",
    "\n",
    "X = pd.DataFrame([\n",
    "    [2.2,1.3],\n",
    "    [2.3,0.7],\n",
    "    [0.2,0.6],\n",
    "    [2.4,5.6],\n",
    "    [4.5,7.8],\n",
    "    [2.3,2.6],\n",
    "    [5.5,5.6],\n",
    "    [5.7,8.9],\n",
    "    [1.2,3.4],\n",
    "    [4.5,4.7],\n",
    "])\n",
    "e = 0.01\n",
    "\n",
    "kmeans = KMeans(n_clusters=2, random_state=0, n_init=\"auto\").fit(X)\n",
    "kmeans.cluster_centers_.sum().sum()\n",
    "\n",
    "# centroid_0 = X.mean(axis=0).values\n",
    "# centroids = [centroid_0 * (1+e), centroid_0 * (1-e)]\n",
    "# dists = []\n",
    "# for centroid in centroids:\n",
    "#     dist = ((X - centroid)**2).sum(axis=1)\n",
    "#     dists.append(dist)\n",
    "# X[\"class\"] = np.argmin(pd.DataFrame(dists).T, axis=1)\n",
    "# X.groupby(\"class\").agg(\"mean\").sum().sum()"
   ]
  },
  {
   "cell_type": "markdown",
   "id": "ec790bd6-f031-4455-bfad-6ad4441d2b9f",
   "metadata": {},
   "source": [
    "#### Question 8\n",
    "---"
   ]
  },
  {
   "cell_type": "code",
   "execution_count": null,
   "id": "51da912a-753d-4f2b-953c-f9fd50aeb19d",
   "metadata": {},
   "outputs": [],
   "source": [
    "import numpy as np\n",
    "\n",
    "ref = [1,5,7,8,4,2,5,1,5,7]\n",
    "inp = [1,4,6,8,4,3,4,2,5,6]\n",
    "\n",
    "dist = []\n",
    "\n",
    "for s_t in ref:\n",
    "    rw = []\n",
    "    for i_t in inp:\n",
    "        rw.append((s_t-i_t)**2)\n",
    "    dist.append(rw)\n",
    "\n",
    "dist = np.array(dist[::-1])\n",
    "cum_dist = dist.copy()\n",
    "\n",
    "cum_dist[-1] = np.cumsum(cum_dist[-1])\n",
    "cum_dist[:,0] = np.cumsum(cum_dist[:,0][::-1])[::-1]\n",
    "\n",
    "for i in range(len(ref)-2, 0-1, -1):\n",
    "    for j in range(1, len(inp)):\n",
    "        min_val = min(cum_dist[i+1, j-1], cum_dist[i+1, j], cum_dist[i, j-1])\n",
    "        cum_dist[i, j] += min_val\n",
    "\n",
    "min(cum_dist[0,:].min(), cum_dist[:,-1].min())"
   ]
  },
  {
   "cell_type": "markdown",
   "id": "3e9be120-ec4a-4a31-97d7-5e63e76be522",
   "metadata": {},
   "source": [
    "#### Question 10\n",
    "---"
   ]
  },
  {
   "cell_type": "code",
   "execution_count": null,
   "id": "f799b2ef-1b67-469d-ae7d-9ef78d22d9df",
   "metadata": {},
   "outputs": [],
   "source": [
    "import numpy as np\n",
    "\n",
    "S = [2,1,4,7,2,3,1,5,7,8,5,4,3,6,7,8,7,4,0,2,3,6]\n",
    "\n",
    "X = np.fft.fft(S)\n",
    "\n",
    "abs(X[2]) ** 2\n",
    "\n",
    "# X = []\n",
    "# N = len(S)\n",
    "# for m in range(N):\n",
    "#     theta = 2 * np.pi * np.array(range(N)) * m / N\n",
    "#     vec = S * np.exp(-1j * theta)\n",
    "#     x = vec.sum()\n",
    "#     X.append(x)\n",
    "# abs(X[2]) ** 2"
   ]
  },
  {
   "cell_type": "markdown",
   "id": "71f87f71-92a9-4541-9179-94f59cfc971f",
   "metadata": {},
   "source": [
    "#### Question 14"
   ]
  },
  {
   "cell_type": "markdown",
   "id": "2e59f908-713b-424d-b95d-504d105e1c81",
   "metadata": {},
   "source": [
    "```matlab\n",
    "% define params\n",
    "start=20000;\n",
    "frame_size=1024;\n",
    "fname='s4.wav';\n",
    "\n",
    "% read signal\n",
    "[sig,fs]=audioread(fname);\n",
    "\n",
    "x_raw=sig(:,1);\n",
    "\n",
    "% get a frame\n",
    "x_frame=x_raw(start:start+frame_size-1);\n",
    "\n",
    "% windowing\n",
    "hamm=hamming(frame_size);\n",
    "x_windowed=hamm.*x_frame;\n",
    "\n",
    "% autocorrelation\n",
    "[R, lags] = xcorr(x_windowed);\n",
    "r_2 = R(lags == 2);\n",
    "\n",
    "disp(r_2);\n",
    "```"
   ]
  },
  {
   "cell_type": "markdown",
   "id": "d51450c6-b341-4935-ad2f-abf11c293c3e",
   "metadata": {},
   "source": [
    "#### Question 15"
   ]
  },
  {
   "cell_type": "markdown",
   "id": "e76b1fa5-c811-4213-a06c-c4c1b4a6ede5",
   "metadata": {},
   "source": [
    "```matlab\n",
    "% read signal\n",
    "[audioIn,fs] = audioread(\"s4.wav\");\n",
    "\n",
    "% get mfcc\n",
    "[coeffs,delta,deltaDelta,loc] = mfcc(audioIn(:,1),fs);\n",
    "\n",
    "% get parameters\n",
    "W=round(0.03*fs);\n",
    "M=round(fs*0.02);\n",
    "[N,P] = size(coeffs);\n",
    "\n",
    "disp(W+M+N+P);\n",
    "```"
   ]
  },
  {
   "cell_type": "markdown",
   "id": "23386110-41a2-4759-98da-349768b0ec0f",
   "metadata": {},
   "source": [
    "#### Question 16"
   ]
  },
  {
   "cell_type": "markdown",
   "id": "67e46a5d-32d6-4648-a30b-63b0756587e2",
   "metadata": {},
   "source": [
    "```matlab\n",
    "% read signals\n",
    "[audioIn1, fs1] = audioread('s4.wav');\n",
    "[audioIn2, fs2] = audioread('s5.wav');\n",
    "\n",
    "% get mfcc\n",
    "[coeffs1, ~, ~, ~] = mfcc(audioIn1(:, 1), fs1);\n",
    "[coeffs2, ~, ~, ~] = mfcc(audioIn2(:, 1), fs2);\n",
    "\n",
    "% get frame\n",
    "xa = coeffs1(40, 3:end);\n",
    "xb = coeffs2(50, 3:end);\n",
    "\n",
    "% calculate mfcc distortion\n",
    "dist_score= sqrt(sum((xa - xb).^2));\n",
    "\n",
    "disp(dist_score);\n",
    "```"
   ]
  }
 ],
 "metadata": {
  "kernelspec": {
   "display_name": "Python 3 (ipykernel)",
   "language": "python",
   "name": "python3"
  },
  "language_info": {
   "codemirror_mode": {
    "name": "ipython",
    "version": 3
   },
   "file_extension": ".py",
   "mimetype": "text/x-python",
   "name": "python",
   "nbconvert_exporter": "python",
   "pygments_lexer": "ipython3",
   "version": "3.10.12"
  }
 },
 "nbformat": 4,
 "nbformat_minor": 5
}
