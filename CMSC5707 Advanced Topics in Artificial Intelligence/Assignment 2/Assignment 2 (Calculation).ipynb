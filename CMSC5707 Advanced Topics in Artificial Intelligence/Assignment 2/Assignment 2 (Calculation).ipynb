{
 "cells": [
  {
   "cell_type": "markdown",
   "id": "5de6e560-966f-4f59-aab5-a49503f06dbc",
   "metadata": {},
   "source": [
    "#### Question 5\n",
    "---"
   ]
  },
  {
   "cell_type": "code",
   "execution_count": null,
   "id": "28a14163-c4a3-452c-8122-0043d18d5a0d",
   "metadata": {},
   "outputs": [],
   "source": [
    "import numpy as np\n",
    "\n",
    "\n",
    "cnt = []\n",
    "w, h = 48, 24\n",
    "\n",
    "for n, m in [(1,2), (1,3), (2,3)]:\n",
    "    x = np.arange(1, w // m + 1)\n",
    "    y = np.arange(1, h // n + 1)\n",
    "    \n",
    "    n_x = w - m * x[:, None] + 1\n",
    "    n_y = h - n * y + 1\n",
    "    \n",
    "    cnt.append(np.sum(n_x * n_y))\n",
    "\n",
    "sum(cnt)"
   ]
  },
  {
   "cell_type": "markdown",
   "id": "e060b17d-99a1-4b92-b0b2-adcc33d097f8",
   "metadata": {},
   "source": [
    "#### Question 6\n",
    "---"
   ]
  },
  {
   "cell_type": "code",
   "execution_count": null,
   "id": "233f3ffb-4bb6-46ad-a3b8-50779b0e4f72",
   "metadata": {},
   "outputs": [],
   "source": [
    "import numpy as np\n",
    "\n",
    "\n",
    "def sigmoid(z):\n",
    "    \n",
    "    return 1. / (1. + np.exp(-z))\n",
    "\n",
    "\n",
    "X = np.array([.3,.2,.1,.4,.5])\n",
    "W_1 = np.array([\n",
    "    [.21,.22,.31,.42,.32],\n",
    "    [.32,.41,.42,.42,.52],\n",
    "])\n",
    "W_2 = np.array([\n",
    "    [.3,.2],\n",
    "    [.3,.14],\n",
    "])\n",
    "B_1 = np.array([.21,.3])\n",
    "B_2 = np.array([.25,.5])\n",
    "\n",
    "A_1 = sigmoid(np.dot(X, W_1.T) + B_1)\n",
    "A_2 = sigmoid(np.dot(A_1, W_2.T) + B_2)\n",
    "\n",
    "sum(A_2)"
   ]
  },
  {
   "cell_type": "markdown",
   "id": "35bd507d-3e9a-4d93-9414-74d93675b249",
   "metadata": {},
   "source": [
    "#### Question 7\n",
    "---"
   ]
  },
  {
   "cell_type": "code",
   "execution_count": null,
   "id": "5abf997b-8bfb-4634-8a9f-51982259c778",
   "metadata": {},
   "outputs": [],
   "source": [
    "import numpy as np\n",
    "\n",
    "\n",
    "def sigmoid(z):\n",
    "    \n",
    "    return 1. / (1. + np.exp(-z))\n",
    "\n",
    "\n",
    "lr = .6\n",
    "X = np.array([.5,.8,.7])\n",
    "W_h_1 = np.array([.24,.43,.52])\n",
    "W_o_1 = np.array([.12,.42,.1])\n",
    "b_h_1 = .33\n",
    "S = np.array([.3,.2,.1])\n",
    "\n",
    "a_h_1 = sigmoid(np.dot(X, W_h_1) + b_h_1)\n",
    "dldw = np.dot(S, W_o_1) * (a_h_1 * (1-a_h_1)) * X[0]\n",
    "\n",
    "W_h_1[0] - lr * dldw"
   ]
  },
  {
   "cell_type": "markdown",
   "id": "599b5837-83a4-4cd7-aade-484a764bb120",
   "metadata": {},
   "source": [
    "#### Question 7\n",
    "---"
   ]
  },
  {
   "cell_type": "markdown",
   "id": "22c876f4-4a46-4744-9fa3-9904d5dd08f7",
   "metadata": {},
   "source": [
    "```matlab\n",
    "A=[\n",
    "    11 22\n",
    "    23 18\n",
    "];\n",
    "\n",
    "B=[\n",
    "    4 6\n",
    "    9 8\n",
    "];\n",
    "\n",
    "sum(sum(conv2(A,B)));\n",
    "```"
   ]
  },
  {
   "cell_type": "markdown",
   "id": "7dae5165-5b2c-4644-8f1a-1572f5c7ef29",
   "metadata": {},
   "source": [
    "#### Question 14\n",
    "---"
   ]
  },
  {
   "cell_type": "code",
   "execution_count": null,
   "id": "595a7ccf-0566-4160-9d65-46520edd3838",
   "metadata": {},
   "outputs": [],
   "source": [
    "import numpy as np\n",
    "from sklearn.tree import DecisionTreeClassifier\n",
    "\n",
    "\n",
    "class AdaBoost:\n",
    "    def __init__(self, n_clf=2):\n",
    "        self.n_clf = n_clf\n",
    "    \n",
    "    def fit(self, X, y, verbose=False):\n",
    "        n_samples, n_features = X.shape\n",
    "        w = np.ones(n_samples) / n_samples\n",
    "        \n",
    "        for t in range(self.n_clf):\n",
    "            model = DecisionTreeClassifier(max_depth=1)\n",
    "            model.fit(X, y, sample_weight=w)\n",
    "            y_hat = model.predict(X)\n",
    "            \n",
    "            miss = (y_hat != y).astype(int)\n",
    "            err = np.dot(w, miss)\n",
    "            \n",
    "            alpha = 0.5 * np.log((1 - err) / err)\n",
    "            \n",
    "            w *= np.exp(-alpha * y * y_hat)\n",
    "            w /= np.sum(w)\n",
    "            \n",
    "            if verbose:\n",
    "                print(f\"t={t}: alpha={alpha:.3f}\")\n",
    "                print(f\"data weights={w}\")\n",
    "                print(\"=\"*10)\n",
    "        \n",
    "        return w\n",
    "\n",
    "\n",
    "X = np.array([\n",
    "    [16,38],\n",
    "    [2,54],\n",
    "    [32,4],\n",
    "    [42,10],\n",
    "    [30,42],\n",
    "    [22,39],\n",
    "    [4,33],\n",
    "    [-22,-25],\n",
    "    [-37,-31],\n",
    "    [-23,-48],\n",
    "])\n",
    "y = np.array([-1,-1,-1,-1,-1,1,1,1,1,1])\n",
    "\n",
    "weights = AdaBoost().fit(X, y)\n",
    "weights.max() - weights.min()"
   ]
  },
  {
   "cell_type": "markdown",
   "id": "30d7ff7d-7d55-4f13-8add-a1c03447674f",
   "metadata": {},
   "source": [
    "#### Question 16\n",
    "---"
   ]
  },
  {
   "cell_type": "code",
   "execution_count": null,
   "id": "d4be9683-1bdd-466f-a7df-ed5984ee60dd",
   "metadata": {},
   "outputs": [],
   "source": [
    "import tensorflow as tf\n",
    "from tensorflow.keras import layers, models\n",
    "\n",
    "\n",
    "model = models.Sequential()\n",
    "model.add(layers.Conv2D(32, (3, 3), activation=\"relu\", input_shape=(32, 32, 3)))\n",
    "model.add(layers.MaxPooling2D((2, 2)))\n",
    "model.add(layers.Conv2D(64, (3, 3), activation=\"relu\"))\n",
    "model.add(layers.MaxPooling2D((2, 2)))\n",
    "model.add(layers.Conv2D(64, (3, 3), activation=\"relu\"))\n",
    "model.add(layers.Flatten())\n",
    "model.add(layers.Dense(64, activation=\"relu\"))\n",
    "model.add(layers.Dense(10))\n",
    "\n",
    "model.count_params()"
   ]
  },
  {
   "cell_type": "markdown",
   "id": "0a558731-a662-4a99-b5e6-3688494aa01e",
   "metadata": {},
   "source": [
    "#### Question 17\n",
    "---"
   ]
  },
  {
   "cell_type": "code",
   "execution_count": null,
   "id": "a2568819-16a4-427f-9b10-a345192b5467",
   "metadata": {},
   "outputs": [],
   "source": [
    "import numpy as np\n",
    "import keras\n",
    "from keras import layers\n",
    "\n",
    "\n",
    "base_model = keras.applications.Xception(\n",
    "    weights=\"imagenet\",\n",
    "    input_shape=(150, 150, 3),\n",
    "    include_top=False,\n",
    ")\n",
    "\n",
    "base_model.trainable = False\n",
    "\n",
    "inputs = keras.Input(shape=(150, 150, 3))\n",
    "\n",
    "scale_layer = keras.layers.Rescaling(scale=1 / 127.5, offset=-1)\n",
    "x = scale_layer(inputs)\n",
    "\n",
    "x = base_model(x, training=False)\n",
    "x = keras.layers.GlobalAveragePooling2D()(x)\n",
    "x = keras.layers.Dropout(0.2)(x)\n",
    "outputs = keras.layers.Dense(1)(x)\n",
    "model = keras.Model(inputs, outputs)\n",
    "\n",
    "x1 = model.count_params()\n",
    "x2 = sum(sum(var.shape.num_elements() for var in layer.trainable_weights) for layer in model.layers)\n",
    "\n",
    "base_model.trainable = True\n",
    "\n",
    "x3 = model.count_params()\n",
    "x4 = sum(sum(var.shape.num_elements() for var in layer.trainable_weights) for layer in model.layers)\n",
    "\n",
    "x1 + x2 + x3 + x4"
   ]
  }
 ],
 "metadata": {
  "kernelspec": {
   "display_name": "Python 3 (ipykernel)",
   "language": "python",
   "name": "python3"
  },
  "language_info": {
   "codemirror_mode": {
    "name": "ipython",
    "version": 3
   },
   "file_extension": ".py",
   "mimetype": "text/x-python",
   "name": "python",
   "nbconvert_exporter": "python",
   "pygments_lexer": "ipython3",
   "version": "3.10.12"
  }
 },
 "nbformat": 4,
 "nbformat_minor": 5
}
